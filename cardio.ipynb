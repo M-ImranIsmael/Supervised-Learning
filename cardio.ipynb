{
 "cells": [
  {
   "attachments": {},
   "cell_type": "markdown",
   "metadata": {},
   "source": [
    "# Cardiovascular Disease Prediction"
   ]
  },
  {
   "attachments": {},
   "cell_type": "markdown",
   "metadata": {},
   "source": [
    "## Import Libraries"
   ]
  },
  {
   "cell_type": "code",
   "execution_count": 1,
   "metadata": {},
   "outputs": [],
   "source": [
    "import pandas as pd\n",
    "import numpy as np\n",
    "import matplotlib.pyplot as plt\n",
    "import seaborn as sns\n",
    "import scipy.stats as ss\n",
    "from sklearn.model_selection import train_test_split, GridSearchCV, RandomizedSearchCV\n",
    "from sklearn.neighbors import KNeighborsClassifier\n",
    "from sklearn.linear_model import LogisticRegression\n",
    "from sklearn.preprocessing import StandardScaler, MinMaxScaler\n",
    "from sklearn.pipeline import Pipeline\n",
    "from sklearn.metrics import accuracy_score, classification_report, f1_score, confusion_matrix\n",
    "from sklearn.ensemble import RandomForestClassifier, GradientBoostingClassifier\n",
    "from sklearn.svm import SVC\n",
    "from joblib import Parallel, delayed"
   ]
  },
  {
   "attachments": {},
   "cell_type": "markdown",
   "metadata": {},
   "source": [
    "## Data Loading"
   ]
  },
  {
   "cell_type": "code",
   "execution_count": 2,
   "metadata": {},
   "outputs": [
    {
     "name": "stdout",
     "output_type": "stream",
     "text": [
      "   id    age  gender  height  weight  ap_hi  ap_lo  cholesterol  gluc  smoke  \\\n",
      "0   0  18393       2     168    62.0    110     80            1     1      0   \n",
      "1   1  20228       1     156    85.0    140     90            3     1      0   \n",
      "2   2  18857       1     165    64.0    130     70            3     1      0   \n",
      "3   3  17623       2     169    82.0    150    100            1     1      0   \n",
      "4   4  17474       1     156    56.0    100     60            1     1      0   \n",
      "\n",
      "   alco  active  cardio  \n",
      "0     0       1       0  \n",
      "1     0       1       1  \n",
      "2     0       0       1  \n",
      "3     0       1       1  \n",
      "4     0       0       0  \n"
     ]
    }
   ],
   "source": [
    "df = pd.read_csv('datasets\\cardio_train.csv', sep=';')\n",
    "print(df.head())"
   ]
  },
  {
   "attachments": {},
   "cell_type": "markdown",
   "metadata": {},
   "source": [
    "### Features:\n",
    "    Age | Objective Feature | age | int (days)\n",
    "    Height | Objective Feature | height | int (cm) |\n",
    "    Weight | Objective Feature | weight | float (kg) |\n",
    "    Gender | Objective Feature | gender | categorical code |\n",
    "    Systolic blood pressure | Examination Feature | ap_hi | int |\n",
    "    Diastolic blood pressure | Examination Feature | ap_lo | int |\n",
    "    Cholesterol | Examination Feature | cholesterol | 1: normal, 2: above normal, 3: well above normal |\n",
    "    Glucose | Examination Feature | gluc | 1: normal, 2: above normal, 3: well above normal |\n",
    "    Smoking | Subjective Feature | smoke | binary |\n",
    "    Alcohol intake | Subjective Feature | alco | binary |\n",
    "    Physical activity | Subjective Feature | active | binary |\n",
    "    Presence or absence of cardiovascular disease | Target Variable | cardio | binary |\n"
   ]
  },
  {
   "attachments": {},
   "cell_type": "markdown",
   "metadata": {},
   "source": [
    "## Data Cleaning and Preprocessing (missing values, duplicates, outliers, anomalies)\n"
   ]
  },
  {
   "cell_type": "code",
   "execution_count": 3,
   "metadata": {},
   "outputs": [],
   "source": [
    "#Cramers Function\n",
    "\n",
    "def cramers_corrected_stat(confusion_matrix):\n",
    "    \"\"\" calculate Cramers V statistic for categorial-categorial association.\n",
    "\n",
    "        uses correction from Bergsma and Wicher,\n",
    "\n",
    "        Journal of the Korean Statistical Society 42 (2013): 323-328\n",
    "\n",
    "    \"\"\"\n",
    "    chi2 = ss.chi2_contingency(confusion_matrix)[0]\n",
    "    n = confusion_matrix.sum()\n",
    "    phi2 = chi2/n\n",
    "    r,k = confusion_matrix.shape\n",
    "    phi2corr = max(0, phi2 - ((k-1)*(r-1))/(n-1))  \n",
    "    rcorr = r - ((r-1)**2)/(n-1)\n",
    "    kcorr = k - ((k-1)**2)/(n-1)\n",
    "    return np.sqrt(phi2corr / min( (kcorr-1), (rcorr-1)))"
   ]
  },
  {
   "cell_type": "code",
   "execution_count": 4,
   "metadata": {},
   "outputs": [],
   "source": [
    "df['age'] = round(df['age']/365.25)\n",
    "df['age'] = df['age'].astype(int)"
   ]
  },
  {
   "cell_type": "code",
   "execution_count": 5,
   "metadata": {},
   "outputs": [
    {
     "data": {
      "text/plain": [
       "id             0\n",
       "age            0\n",
       "gender         0\n",
       "height         0\n",
       "weight         0\n",
       "ap_hi          0\n",
       "ap_lo          0\n",
       "cholesterol    0\n",
       "gluc           0\n",
       "smoke          0\n",
       "alco           0\n",
       "active         0\n",
       "cardio         0\n",
       "dtype: int64"
      ]
     },
     "execution_count": 5,
     "metadata": {},
     "output_type": "execute_result"
    }
   ],
   "source": [
    "df.isna().sum()"
   ]
  },
  {
   "cell_type": "code",
   "execution_count": 6,
   "metadata": {},
   "outputs": [
    {
     "name": "stdout",
     "output_type": "stream",
     "text": [
      "               count          mean           std    min       25%      50%  \\\n",
      "id           70000.0  49972.419900  28851.302323    0.0  25006.75  50001.5   \n",
      "age          70000.0     53.303157      6.760171   30.0     48.00     54.0   \n",
      "gender       70000.0      1.349571      0.476838    1.0      1.00      1.0   \n",
      "height       70000.0    164.359229      8.210126   55.0    159.00    165.0   \n",
      "weight       70000.0     74.205690     14.395757   10.0     65.00     72.0   \n",
      "ap_hi        70000.0    128.817286    154.011419 -150.0    120.00    120.0   \n",
      "ap_lo        70000.0     96.630414    188.472530  -70.0     80.00     80.0   \n",
      "cholesterol  70000.0      1.366871      0.680250    1.0      1.00      1.0   \n",
      "gluc         70000.0      1.226457      0.572270    1.0      1.00      1.0   \n",
      "smoke        70000.0      0.088129      0.283484    0.0      0.00      0.0   \n",
      "alco         70000.0      0.053771      0.225568    0.0      0.00      0.0   \n",
      "active       70000.0      0.803729      0.397179    0.0      1.00      1.0   \n",
      "cardio       70000.0      0.499700      0.500003    0.0      0.00      0.0   \n",
      "\n",
      "                  75%      max  \n",
      "id           74889.25  99999.0  \n",
      "age             58.00     65.0  \n",
      "gender           2.00      2.0  \n",
      "height         170.00    250.0  \n",
      "weight          82.00    200.0  \n",
      "ap_hi          140.00  16020.0  \n",
      "ap_lo           90.00  11000.0  \n",
      "cholesterol      2.00      3.0  \n",
      "gluc             1.00      3.0  \n",
      "smoke            0.00      1.0  \n",
      "alco             0.00      1.0  \n",
      "active           1.00      1.0  \n",
      "cardio           1.00      1.0  \n"
     ]
    }
   ],
   "source": [
    "print(df.describe().T)"
   ]
  },
  {
   "cell_type": "code",
   "execution_count": 7,
   "metadata": {},
   "outputs": [
    {
     "data": {
      "text/plain": [
       "id             70000\n",
       "age               28\n",
       "gender             2\n",
       "height           109\n",
       "weight           287\n",
       "ap_hi            153\n",
       "ap_lo            157\n",
       "cholesterol        3\n",
       "gluc               3\n",
       "smoke              2\n",
       "alco               2\n",
       "active             2\n",
       "cardio             2\n",
       "dtype: int64"
      ]
     },
     "execution_count": 7,
     "metadata": {},
     "output_type": "execute_result"
    }
   ],
   "source": [
    "# checking for anomalies cholesterol(1-3),  glucose(1-3), alco(0-1), active(0-1), cardio(0-1)\n",
    "df.nunique()"
   ]
  },
  {
   "cell_type": "code",
   "execution_count": 8,
   "metadata": {},
   "outputs": [
    {
     "name": "stdout",
     "output_type": "stream",
     "text": [
      "<class 'pandas.core.frame.DataFrame'>\n",
      "RangeIndex: 70000 entries, 0 to 69999\n",
      "Data columns (total 13 columns):\n",
      " #   Column       Non-Null Count  Dtype  \n",
      "---  ------       --------------  -----  \n",
      " 0   id           70000 non-null  int64  \n",
      " 1   age          70000 non-null  int32  \n",
      " 2   gender       70000 non-null  int64  \n",
      " 3   height       70000 non-null  int64  \n",
      " 4   weight       70000 non-null  float64\n",
      " 5   ap_hi        70000 non-null  int64  \n",
      " 6   ap_lo        70000 non-null  int64  \n",
      " 7   cholesterol  70000 non-null  int64  \n",
      " 8   gluc         70000 non-null  int64  \n",
      " 9   smoke        70000 non-null  int64  \n",
      " 10  alco         70000 non-null  int64  \n",
      " 11  active       70000 non-null  int64  \n",
      " 12  cardio       70000 non-null  int64  \n",
      "dtypes: float64(1), int32(1), int64(11)\n",
      "memory usage: 6.7 MB\n"
     ]
    }
   ],
   "source": [
    "df.info()"
   ]
  },
  {
   "cell_type": "code",
   "execution_count": 9,
   "metadata": {},
   "outputs": [
    {
     "data": {
      "text/plain": [
       "(70000, 13)"
      ]
     },
     "execution_count": 9,
     "metadata": {},
     "output_type": "execute_result"
    }
   ],
   "source": [
    "df.shape"
   ]
  },
  {
   "cell_type": "code",
   "execution_count": 10,
   "metadata": {},
   "outputs": [
    {
     "data": {
      "text/plain": [
       "Index(['id', 'age', 'gender', 'height', 'weight', 'ap_hi', 'ap_lo',\n",
       "       'cholesterol', 'gluc', 'smoke', 'alco', 'active', 'cardio'],\n",
       "      dtype='object')"
      ]
     },
     "execution_count": 10,
     "metadata": {},
     "output_type": "execute_result"
    }
   ],
   "source": [
    "df.columns"
   ]
  },
  {
   "cell_type": "code",
   "execution_count": 11,
   "metadata": {},
   "outputs": [
    {
     "name": "stdout",
     "output_type": "stream",
     "text": [
      "[    0     1     2 ... 99996 99998 99999]\n",
      "[50 55 52 48 60 61 62 54 40 46 58 59 63 64 45 57 56 49 51 44 65 53 47 42\n",
      " 39 43 41 30]\n",
      "[2 1]\n",
      "[168 156 165 169 151 157 178 158 164 173 181 172 170 154 162 163 153 159\n",
      " 166 155 160 175 171 152 187 148 179 180 188 185 167 183 174 176 161 184\n",
      " 177 182  76 149 142 150 144 147 186 146 141 195 140 198 145 143 196 138\n",
      " 194 190 134 136 100 120 189 137 192 122 250 191 117  70  97 119 130 110\n",
      " 193  75 132  71 135  67 125 139 133  74  98 112 207  68  55  81  80  64\n",
      "  91  60 109  72 197  65 128 105 108 200 104 111 113  96 131  59  66  99\n",
      "  57]\n",
      "[ 62.    85.    64.    82.    56.    67.    93.    95.    71.    68.\n",
      "  80.    60.    78.   112.    75.    52.    83.    69.    90.    45.\n",
      "  65.    59.    66.    74.   105.    73.    55.    70.    72.    63.\n",
      "  50.   107.    84.    77.    79.    76.    58.   115.    97.    53.\n",
      "  57.    49.   110.    94.    92.    87.   103.    88.    99.   100.\n",
      "  61.    48.    54.    51.    47.    91.   104.    81.    98.   108.\n",
      "  89.   101.    86.    65.5  142.    96.    44.    41.   169.   116.\n",
      " 200.    64.8  120.   117.   125.   106.   114.   113.   129.   124.\n",
      "  42.   123.   111.   102.   109.    46.   139.   150.   138.   131.\n",
      "  43.    83.6  134.   106.5  121.    40.   141.   119.   126.   177.\n",
      " 165.   122.    62.3  118.    89.5  132.   155.   130.   159.    84.6\n",
      " 140.    82.3   30.    67.9  127.    67.5   74.3  149.   180.   128.\n",
      "  60.2   64.5   58.7   90.5   37.    80.8  166.   161.    92.2   75.6\n",
      " 136.    82.9  154.    68.9  170.    84.5  135.    72.5  146.    70.5\n",
      "  74.2   84.3   38.    54.5  145.    68.5   79.5   72.8   73.2   96.5\n",
      "  53.2   39.    61.2  168.   133.    54.35  50.7   79.94  45.8  153.\n",
      "  34.    62.4  167.   156.    35.    70.3   31.    60.5   69.8   64.7\n",
      "  64.1  152.    59.5  163.    75.5   78.2  162.   121.3  178.    82.5\n",
      "  90.7   80.6   55.6   59.8   74.77  32.    70.8   57.4   73.8   56.2\n",
      "  69.5   71.5   89.1  158.    76.5   35.45  86.5   63.8   23.   144.\n",
      "  70.2   68.4  148.   164.    22.    66.5   54.9   59.2   65.3  137.\n",
      "  62.2   50.5   36.    61.5   80.5   81.1   53.6   11.    66.4   76.7\n",
      "  28.    68.3   60.6   76.8   58.8  181.    75.2   83.5   64.3  175.\n",
      "  84.9   80.7   84.7   60.1  105.5   85.5  121.8   51.5   53.9   42.2\n",
      "  74.5  114.6   73.5   71.3   33.    66.3   53.3   67.8   70.7   52.3\n",
      "  82.4   63.4   71.2   62.5   63.82  88.5   89.9   72.1  106.4  160.\n",
      "  68.2   53.67 171.    55.2   94.5  143.    62.7   53.5  109.5   10.\n",
      "  82.1   57.8   84.8   21.    29.   183.    58.5   57.6   78.5  172.\n",
      " 109.7   61.3   67.3   94.7  147.    55.4   99.9 ]\n",
      "[  110   140   130   150   100   120   145   170   135   125    90   180\n",
      "   160   133   190    80   122   169   126   158   200    14   123    70\n",
      "   161   147   115   137   153    11   148   105   220   119   141   165\n",
      "   164    12   124   172   902   162   906   117   134   166   210   176\n",
      "   116    10   121    16   112   159   113   118   155   142   131   157\n",
      "   136   146   138  -100   909   109    85   106   129    93     7    95\n",
      "   179   156   168   132   104   103   178   175   128   151    15   139\n",
      " 11500   127    17   108   144   102     1  1420    13   143   701   107\n",
      "   184   149   167   114   101    60  1500   181   171   202  -115   111\n",
      "   907    20   188   185   163   173   154   177  -140   174  -120 14020\n",
      "  1400   240   191   197  1620   152    96   199  -150  1130   193    99\n",
      "   196   309   401 16020  1202   806  1300   230   207   215    97  1409\n",
      " 11020    24   960 13010  1110   195  1205   187  2000]\n",
      "[   80    90    70   100    60    85    89   110    65    63    79  1100\n",
      "  1000   800   120    50    30   109    84  1033   150    91    40    73\n",
      "    78    75    86    87  1001    82    95    69    74    97    81  1200\n",
      "    83   119     0    93   105 10000    99    77    59  8044   140    92\n",
      "  1044   108   125   115    68    61   106   102    94    66    52   170\n",
      "    76   160    62    96   130   113    67  9100    10    88   902     8\n",
      "   112   104    71    72  1008    98  2088    20   802  8000  1022   850\n",
      "   708    57   101  9011  1011    64  1007  1177  7100    45   709  8500\n",
      "    58  1110  8099  1088   126  1077  1120     7   103  1125   180   121\n",
      "  8100   710  5700  8079  1111  1003     6  1900   809   114   801  1002\n",
      "    53   111     1   118    56   182   810     9  7099 11000  9800  8200\n",
      "  1139   107   820    55  1400   190   900   122  6800   135   700    15\n",
      "  1101   910  1140  1211   -70    54  8077   901   880   870   585    49\n",
      "   602]\n",
      "[1 3 2]\n",
      "[1 2 3]\n",
      "[0 1]\n",
      "[0 1]\n",
      "[1 0]\n",
      "[0 1]\n"
     ]
    }
   ],
   "source": [
    "df.head()\n",
    "for col in df.columns:\n",
    "    print(df[col].unique())"
   ]
  },
  {
   "cell_type": "code",
   "execution_count": 12,
   "metadata": {},
   "outputs": [
    {
     "name": "stdout",
     "output_type": "stream",
     "text": [
      "Categorical Columns:  ['gender', 'cholesterol', 'gluc', 'smoke', 'alco', 'active']\n",
      "Continuous Columns:  ['cardio', 'id', 'age', 'height', 'weight', 'ap_hi', 'ap_lo']\n"
     ]
    }
   ],
   "source": [
    "columns = df.columns\n",
    "categorical_columns = []\n",
    "continuous_columns = ['cardio']\n",
    "for col in columns:\n",
    "    if col != 'cardio':\n",
    "        if df[col].nunique() <= 10:\n",
    "            categorical_columns.append(col)\n",
    "        else:\n",
    "            continuous_columns.append(col)\n",
    "\n",
    "print(\"Categorical Columns: \", categorical_columns)\n",
    "print(\"Continuous Columns: \", continuous_columns)\n"
   ]
  },
  {
   "cell_type": "code",
   "execution_count": 13,
   "metadata": {},
   "outputs": [
    {
     "name": "stdout",
     "output_type": "stream",
     "text": [
      "gender\n",
      "0.007140984138192398\n",
      "cholesterol\n",
      "0.22108459105726172\n",
      "gluc\n",
      "0.09141116970410079\n",
      "smoke\n",
      "0.014965735354595095\n",
      "alco\n",
      "0.006206645866171115\n",
      "active\n",
      "0.03541641750397704\n"
     ]
    }
   ],
   "source": [
    "for i in categorical_columns:\n",
    "    print(i)\n",
    "    matrix = pd.crosstab(df[i], df['cardio']).to_numpy()\n",
    "    print((cramers_corrected_stat(matrix)))"
   ]
  },
  {
   "cell_type": "code",
   "execution_count": 14,
   "metadata": {},
   "outputs": [
    {
     "name": "stdout",
     "output_type": "stream",
     "text": [
      "cardio\n",
      "1.0\n",
      "id\n",
      "0.4997142857142857\n",
      "age\n",
      "0.5959428571428571\n",
      "height\n",
      "0.5063285714285715\n",
      "weight\n",
      "0.5760571428571428\n",
      "ap_hi\n",
      "0.7135571428571429\n",
      "ap_lo\n",
      "0.5580714285714286\n"
     ]
    }
   ],
   "source": [
    "for i in continuous_columns:\n",
    "    print(i)\n",
    "    lr = LogisticRegression()\n",
    "    lr.fit(np.expand_dims(df[i], axis=1), df['cardio'])\n",
    "    print(lr.score(np.expand_dims(df[i], axis=1), df['cardio']))"
   ]
  },
  {
   "cell_type": "code",
   "execution_count": 15,
   "metadata": {},
   "outputs": [
    {
     "data": {
      "image/png": "[encoded data removed]",
      "text/plain": [
       "<Figure size 640x480 with 2 Axes>"
      ]
     },
     "metadata": {},
     "output_type": "display_data"
    }
   ],
   "source": [
    "# Finding the corelation between continuous data \n",
    "df_con = df.loc[:, continuous_columns]\n",
    "corr = df_con.corr()\n",
    "df_con.corr()['cardio'].sort_values()\n",
    "plt.figure()\n",
    "sns.heatmap(corr, cmap='Reds', annot=True)\n",
    "plt.show()\n"
   ]
  },
  {
   "cell_type": "code",
   "execution_count": 16,
   "metadata": {},
   "outputs": [
    {
     "data": {
      "image/png": "[encoded data removed]",
      "text/plain": [
       "<Figure size 640x480 with 1 Axes>"
      ]
     },
     "metadata": {},
     "output_type": "display_data"
    },
    {
     "data": {
      "image/png": "[encoded data removed]",
      "text/plain": [
       "<Figure size 640x480 with 1 Axes>"
      ]
     },
     "metadata": {},
     "output_type": "display_data"
    },
    {
     "data": {
      "image/png": "[encoded data removed]",
      "text/plain": [
       "<Figure size 640x480 with 1 Axes>"
      ]
     },
     "metadata": {},
     "output_type": "display_data"
    },
    {
     "data": {
      "image/png": "[encoded data removed]",
      "text/plain": [
       "<Figure size 640x480 with 1 Axes>"
      ]
     },
     "metadata": {},
     "output_type": "display_data"
    },
    {
     "data": {
      "image/png": "[encoded data removed]",
      "text/plain": [
       "<Figure size 640x480 with 1 Axes>"
      ]
     },
     "metadata": {},
     "output_type": "display_data"
    },
    {
     "data": {
      "image/png": "[encoded data removed]",
      "text/plain": [
       "<Figure size 640x480 with 1 Axes>"
      ]
     },
     "metadata": {},
     "output_type": "display_data"
    }
   ],
   "source": [
    "palettes = [\"deep\", \"muted\", \"pastel\", \"bright\", \"dark\"]\n",
    "\n",
    "for i, x in enumerate(categorical_columns):\n",
    "    sns.color_palette(\"husl\", 8)\n",
    "    sns.countplot(data=df, x=x)\n",
    "    plt.xlabel(x)\n",
    "    plt.show()"
   ]
  },
  {
   "attachments": {},
   "cell_type": "markdown",
   "metadata": {},
   "source": [
    "## Model Selection and Training"
   ]
  },
  {
   "cell_type": "code",
   "execution_count": 17,
   "metadata": {},
   "outputs": [
    {
     "data": {
      "text/plain": [
       "0        0\n",
       "1        1\n",
       "2        1\n",
       "3        1\n",
       "4        0\n",
       "        ..\n",
       "69995    0\n",
       "69996    1\n",
       "69997    1\n",
       "69998    1\n",
       "69999    0\n",
       "Name: cardio, Length: 70000, dtype: int64"
      ]
     },
     "execution_count": 17,
     "metadata": {},
     "output_type": "execute_result"
    }
   ],
   "source": [
    "X_train = df.drop(labels = \"cardio\", axis = 1)\n",
    "y_train = df[\"cardio\"]\n",
    "y_train"
   ]
  },
  {
   "cell_type": "code",
   "execution_count": 18,
   "metadata": {},
   "outputs": [],
   "source": [
    "X_train, X_test, y_train, y_test = train_test_split(X_train, y_train, test_size = 0.2 , random_state= 42, stratify=y_train)"
   ]
  },
  {
   "cell_type": "code",
   "execution_count": 19,
   "metadata": {},
   "outputs": [],
   "source": [
    "# Logistic Regression Pipeling\n",
    "pipeline_mms_lr = Pipeline([\n",
    "    ('min_max_scaler', MinMaxScaler()),\n",
    "    ('logistic_regression', LogisticRegression())\n",
    "])\n",
    "\n",
    "pipeline_ss_lr = Pipeline([\n",
    "    ('standard_scaler', StandardScaler()),\n",
    "    ('logistic_regression', LogisticRegression())\n",
    "])\n",
    "\n",
    "# Random Forest\n",
    "pipeline_mms_rf = Pipeline([\n",
    "    ('min_max_scaler', MinMaxScaler()),\n",
    "    ('random_forest', RandomForestClassifier())\n",
    "])\n",
    "\n",
    "pipeline_ss_rf = Pipeline([\n",
    "    ('standard_scaler', StandardScaler()),\n",
    "    ('random_forest', RandomForestClassifier())\n",
    "])\n",
    "\n",
    "# Gradient Boost\n",
    "pipeline_mms_gb = Pipeline([\n",
    "    ('min_max_scaler', MinMaxScaler()),\n",
    "    ('gradient_boost', GradientBoostingClassifier())\n",
    "])\n",
    "\n",
    "pipeline_ss_gb = Pipeline([\n",
    "    ('standard_scaler', StandardScaler()),\n",
    "    ('gradient_boost', GradientBoostingClassifier())\n",
    "])\n",
    "\n",
    "\n",
    "# SVC\n",
    "pipeline_mms_svc = Pipeline([\n",
    "    ('min_max_scaler', MinMaxScaler()),\n",
    "    ('svc', SVC())\n",
    "])\n",
    "\n",
    "pipeline_ss_svc = Pipeline([\n",
    "    ('standard_scaler', StandardScaler()),\n",
    "    ('svc', SVC())\n",
    "])"
   ]
  },
  {
   "cell_type": "code",
   "execution_count": 20,
   "metadata": {},
   "outputs": [],
   "source": [
    "pipelines = [pipeline_mms_lr, pipeline_ss_lr,\n",
    "            pipeline_mms_rf, pipeline_ss_rf\n",
    "            # pipeline_mms_gb, pipeline_ss_gb,\n",
    "            # pipeline_mms_svc, pipeline_ss_svc\n",
    "            ]"
   ]
  },
  {
   "cell_type": "code",
   "execution_count": 21,
   "metadata": {},
   "outputs": [],
   "source": [
    "pipe_dict = {}\n",
    "best_score = 0\n",
    "# Key for the dictionary\n",
    "model_name = ['MMS + Logistic Regression', 'SS + Logistic Regression', \n",
    "              'MMS + Random Forest', 'SS + Random Forest' \n",
    "            #   'MMS + Gradient Boost', 'SS + Gradient Boost', \n",
    "            #   'MMS + SVC', 'SS + SVC'\n",
    "              ]"
   ]
  },
  {
   "cell_type": "code",
   "execution_count": 24,
   "metadata": {},
   "outputs": [],
   "source": [
    "for pipe in pipelines:\n",
    "    pipe.fit(X_train, y_train)"
   ]
  },
  {
   "cell_type": "code",
   "execution_count": 25,
   "metadata": {},
   "outputs": [],
   "source": [
    "# Model Evaluation\n",
    "\n",
    "for i, model in enumerate(pipelines):\n",
    "    y_pred = model.predict(X_test)\n",
    "    # key is mode_name, values are accuracy score and f1 score\n",
    "    pipe_dict[model_name[i]] = [accuracy_score(y_test, y_pred), f1_score(y_test, y_pred, average='weighted')]\n",
    "\n",
    "    # To get the best score from each model\n",
    "    if model.score(X_test, y_test) > best_score:\n",
    "        best_score = model.score(X_test, y_test)\n",
    "        best_pipeline = model_name[i]"
   ]
  },
  {
   "cell_type": "code",
   "execution_count": 26,
   "metadata": {},
   "outputs": [
    {
     "name": "stdout",
     "output_type": "stream",
     "text": [
      "The best model for heart attack prediction is MMS + Random Forest with the accuracy score of 0.7187142857142857\n"
     ]
    }
   ],
   "source": [
    "print('The best model for heart attack prediction is {} with the accuracy score of {}'.format(best_pipeline, best_score))"
   ]
  },
  {
   "cell_type": "code",
   "execution_count": 27,
   "metadata": {},
   "outputs": [
    {
     "name": "stdout",
     "output_type": "stream",
     "text": [
      "{'MMS + Logistic Regression': [0.6443571428571429, 0.644013484389997], 'SS + Logistic Regression': [0.7131428571428572, 0.7126929768690589], 'MMS + Random Forest': [0.7187142857142857, 0.7185868039650742], 'SS + Random Forest': [0.7165, 0.716387385680264]}\n"
     ]
    }
   ],
   "source": [
    "print(pipe_dict)"
   ]
  },
  {
   "cell_type": "code",
   "execution_count": 28,
   "metadata": {},
   "outputs": [
    {
     "data": {
      "text/html": [
       "<style type=\"text/css\">\n",
       "#T_83408_row0_col0, #T_83408_row0_col1 {\n",
       "  background-color: #084081;\n",
       "  color: #f1f1f1;\n",
       "}\n",
       "#T_83408_row1_col0, #T_83408_row1_col1 {\n",
       "  background-color: #08498a;\n",
       "  color: #f1f1f1;\n",
       "}\n",
       "#T_83408_row2_col0 {\n",
       "  background-color: #08589b;\n",
       "  color: #f1f1f1;\n",
       "}\n",
       "#T_83408_row2_col1 {\n",
       "  background-color: #08599c;\n",
       "  color: #f1f1f1;\n",
       "}\n",
       "#T_83408_row3_col0, #T_83408_row3_col1 {\n",
       "  background-color: #f7fcf0;\n",
       "  color: #000000;\n",
       "}\n",
       "</style>\n",
       "<table id=\"T_83408\">\n",
       "  <thead>\n",
       "    <tr>\n",
       "      <th class=\"blank level0\" >&nbsp;</th>\n",
       "      <th id=\"T_83408_level0_col0\" class=\"col_heading level0 col0\" >Accuracy_score</th>\n",
       "      <th id=\"T_83408_level0_col1\" class=\"col_heading level0 col1\" >f1_score</th>\n",
       "    </tr>\n",
       "  </thead>\n",
       "  <tbody>\n",
       "    <tr>\n",
       "      <th id=\"T_83408_level0_row0\" class=\"row_heading level0 row0\" >MMS + Random Forest</th>\n",
       "      <td id=\"T_83408_row0_col0\" class=\"data row0 col0\" >0.718714</td>\n",
       "      <td id=\"T_83408_row0_col1\" class=\"data row0 col1\" >0.718587</td>\n",
       "    </tr>\n",
       "    <tr>\n",
       "      <th id=\"T_83408_level0_row1\" class=\"row_heading level0 row1\" >SS + Random Forest</th>\n",
       "      <td id=\"T_83408_row1_col0\" class=\"data row1 col0\" >0.716500</td>\n",
       "      <td id=\"T_83408_row1_col1\" class=\"data row1 col1\" >0.716387</td>\n",
       "    </tr>\n",
       "    <tr>\n",
       "      <th id=\"T_83408_level0_row2\" class=\"row_heading level0 row2\" >SS + Logistic Regression</th>\n",
       "      <td id=\"T_83408_row2_col0\" class=\"data row2 col0\" >0.713143</td>\n",
       "      <td id=\"T_83408_row2_col1\" class=\"data row2 col1\" >0.712693</td>\n",
       "    </tr>\n",
       "    <tr>\n",
       "      <th id=\"T_83408_level0_row3\" class=\"row_heading level0 row3\" >MMS + Logistic Regression</th>\n",
       "      <td id=\"T_83408_row3_col0\" class=\"data row3 col0\" >0.644357</td>\n",
       "      <td id=\"T_83408_row3_col1\" class=\"data row3 col1\" >0.644013</td>\n",
       "    </tr>\n",
       "  </tbody>\n",
       "</table>\n"
      ],
      "text/plain": [
       "<pandas.io.formats.style.Styler at 0x221a7811eb0>"
      ]
     },
     "execution_count": 28,
     "metadata": {},
     "output_type": "execute_result"
    }
   ],
   "source": [
    "# Converting pipe into DataFrame    \n",
    "model_comparison_df = pd.DataFrame.from_dict(pipe_dict).T\n",
    "model_comparison_df.columns = ['Accuracy_score', 'f1_score']\n",
    "model_comparison_df.sort_values(['Accuracy_score', 'f1_score'], ascending = False, inplace=True)\n",
    "model_comparison_df.style.background_gradient(cmap='GnBu')"
   ]
  },
  {
   "cell_type": "code",
   "execution_count": null,
   "metadata": {},
   "outputs": [],
   "source": []
  }
 ],
 "metadata": {
  "kernelspec": {
   "display_name": "ml",
   "language": "python",
   "name": "python3"
  },
  "language_info": {
   "codemirror_mode": {
    "name": "ipython",
    "version": 3
   },
   "file_extension": ".py",
   "mimetype": "text/x-python",
   "name": "python",
   "nbconvert_exporter": "python",
   "pygments_lexer": "ipython3",
   "version": "3.8.16 (default, Jan 17 2023, 22:25:28) [MSC v.1916 64 bit (AMD64)]"
  },
  "orig_nbformat": 4,
  "vscode": {
   "interpreter": {
    "hash": "8ea266b9a32e539376479ecefb4b43de94cddfc186952a2290bc119c664ac37e"
   }
  }
 },
 "nbformat": 4,
 "nbformat_minor": 2
}
